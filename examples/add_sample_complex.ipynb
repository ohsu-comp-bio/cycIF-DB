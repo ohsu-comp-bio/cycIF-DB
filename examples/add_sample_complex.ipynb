{
 "metadata": {
  "language_info": {
   "codemirror_mode": {
    "name": "ipython",
    "version": 3
   },
   "file_extension": ".py",
   "mimetype": "text/x-python",
   "name": "python",
   "nbconvert_exporter": "python",
   "pygments_lexer": "ipython3",
   "version": "3.8.5-final"
  },
  "orig_nbformat": 2,
  "kernelspec": {
   "name": "python3",
   "display_name": "Python 3.8.5 64-bit",
   "metadata": {
    "interpreter": {
     "hash": "cc5331cc575a7bb7f8be8547772959bf8d706bc034b6931cb5dcca3f187612a5"
    }
   }
  }
 },
 "nbformat": 4,
 "nbformat_minor": 2,
 "cells": [
  {
   "source": [
    "# Set up database url"
   ],
   "cell_type": "markdown",
   "metadata": {}
  },
  {
   "source": [
    "! cat ../cycif_db/config.yml"
   ],
   "cell_type": "code",
   "metadata": {},
   "execution_count": 1,
   "outputs": [
    {
     "output_type": "stream",
     "name": "stdout",
     "text": [
      "db_url: sqlite:////tmp/db.sqlite\nauto_migrate: False\ngalaxy_server: https://galaxy.ohsu.edu/galaxy/\napi_key:\n"
     ]
    }
   ]
  },
  {
   "source": [
    "# Create Database and set tables schema"
   ],
   "cell_type": "markdown",
   "metadata": {}
  },
  {
   "source": [
    "\n",
    "!cd .. && python scripts/create_db.py"
   ],
   "cell_type": "code",
   "metadata": {},
   "execution_count": 2,
   "outputs": [
    {
     "output_type": "stream",
     "name": "stdout",
     "text": [
      "INFO:cycif_db.model.check:Creating database for URI [sqlite:////tmp/db.sqlite]\nINFO:cycif_db.model.check:Creating new database from scratch, skipping migrations\nINFO  [alembic.runtime.migration] Context impl SQLiteImpl.\nINFO  [alembic.runtime.migration] Will assume non-transactional DDL.\nINFO  [alembic.runtime.migration] Running stamp_revision  -> 5\nINFO  [alembic.runtime.migration] Context impl SQLiteImpl.\nINFO  [alembic.runtime.migration] Will assume non-transactional DDL.\n"
     ]
    }
   ]
  },
  {
   "source": [
    "# Add a sample complex."
   ],
   "cell_type": "markdown",
   "metadata": {}
  },
  {
   "cell_type": "code",
   "execution_count": 3,
   "metadata": {},
   "outputs": [
    {
     "output_type": "stream",
     "name": "stderr",
     "text": [
      "INFO:cycif_db.markers._markers:Loaded 252 unique DB column names for markers.\n",
      "INFO:cycif_db.markers._markers:Converted to 282 pairs of `db_keyword: marker_name`.\n",
      "INFO:cycif_db.markers._markers:Loaded 12 unique DB column names for non-marker features.\n",
      "WARNING:cycif_db.data_frame._dataframe:The following markers found in cells headers didn't match any marker name listed in the `markers.csv`: CD45R_1, CD4_2, DAPI_8, DAPI_1, DAPI_7, DAPI_2, CD45_1, DAPI_5, CD45_2, DAPI_4, CD4_1, CD45R_2, DAPI_3, DAPI_6\n",
      "INFO:cycif_db.data_frame._dataframe:Check DB schema compatibility: Succeed!\n",
      "INFO:cycif_db.cyc_session:Added sample <Sample(name='Galaxy84', tag='v0.1')>.\n",
      "INFO:cycif_db.cyc_session:Added 33519 cell records.\n",
      "INFO:cycif_db.cyc_session:No matching marker found for DAPI. Create one instead...\n",
      "INFO:cycif_db.cyc_session:Added marker <Marker(name='DAPI')>.\n",
      "INFO:cycif_db.cyc_session:No matching marker found for Goat_IgG-AF488. Create one instead...\n",
      "INFO:cycif_db.cyc_session:Added marker <Marker(name='Goat_IgG_AF488')>.\n",
      "INFO:cycif_db.cyc_session:No matching marker found for Goat_IgG-AF555. Create one instead...\n",
      "INFO:cycif_db.cyc_session:Added marker <Marker(name='Goat_IgG_AF555')>.\n",
      "INFO:cycif_db.cyc_session:No matching marker found for Goat_IgG-AF647. Create one instead...\n",
      "INFO:cycif_db.cyc_session:Added marker <Marker(name='Goat_IgG_AF647')>.\n",
      "INFO:cycif_db.cyc_session:Successfully fetched a martching marker <Marker(name='DAPI')>.\n",
      "INFO:cycif_db.cyc_session:No matching marker found for LAG-3. Create one instead...\n",
      "INFO:cycif_db.cyc_session:Added marker <Marker(name='LAG3')>.\n",
      "INFO:cycif_db.cyc_session:No matching marker found for CD3. Create one instead...\n",
      "INFO:cycif_db.cyc_session:Added marker <Marker(name='CD3')>.\n",
      "INFO:cycif_db.cyc_session:No matching marker found for GranzymeB. Create one instead...\n",
      "INFO:cycif_db.cyc_session:Added marker <Marker(name='Granzyme_B')>.\n",
      "INFO:cycif_db.cyc_session:Successfully fetched a martching marker <Marker(name='DAPI')>.\n",
      "INFO:cycif_db.cyc_session:No matching marker found for Ki-67. Create one instead...\n",
      "INFO:cycif_db.cyc_session:Added marker <Marker(name='Ki67')>.\n",
      "INFO:cycif_db.cyc_session:No matching marker found for CK. Create one instead...\n",
      "INFO:cycif_db.cyc_session:Added marker <Marker(name='CK')>.\n",
      "INFO:cycif_db.cyc_session:No matching marker found for alpha-SMA. Create one instead...\n",
      "INFO:cycif_db.cyc_session:Added marker <Marker(name='alpha_SMA')>.\n",
      "INFO:cycif_db.cyc_session:Successfully fetched a martching marker <Marker(name='DAPI')>.\n",
      "INFO:cycif_db.cyc_session:No matching marker found for CD68. Create one instead...\n",
      "INFO:cycif_db.cyc_session:Added marker <Marker(name='CD68')>.\n",
      "INFO:cycif_db.cyc_session:No matching marker found for CD45. Create one instead...\n",
      "INFO:cycif_db.cyc_session:Added marker <Marker(name='CD45')>.\n",
      "INFO:cycif_db.cyc_session:No matching marker found for CD8a. Create one instead...\n",
      "INFO:cycif_db.cyc_session:Added marker <Marker(name='CD8a')>.\n",
      "INFO:cycif_db.cyc_session:Successfully fetched a martching marker <Marker(name='DAPI')>.\n",
      "INFO:cycif_db.cyc_session:No matching marker found for CD163. Create one instead...\n",
      "INFO:cycif_db.cyc_session:Added marker <Marker(name='CD163')>.\n",
      "INFO:cycif_db.cyc_session:No matching marker found for CD45R. Create one instead...\n",
      "INFO:cycif_db.cyc_session:Added marker <Marker(name='CD45R')>.\n",
      "INFO:cycif_db.cyc_session:No matching marker found for CD14. Create one instead...\n",
      "INFO:cycif_db.cyc_session:Added marker <Marker(name='CD14')>.\n",
      "INFO:cycif_db.cyc_session:Successfully fetched a martching marker <Marker(name='DAPI')>.\n",
      "INFO:cycif_db.cyc_session:No matching marker found for CD4. Create one instead...\n",
      "INFO:cycif_db.cyc_session:Added marker <Marker(name='CD4')>.\n",
      "INFO:cycif_db.cyc_session:No matching marker found for FOXP3. Create one instead...\n",
      "INFO:cycif_db.cyc_session:Added marker <Marker(name='FOXP3')>.\n",
      "INFO:cycif_db.cyc_session:No matching marker found for PD-L1. Create one instead...\n",
      "INFO:cycif_db.cyc_session:Added marker <Marker(name='PD_L1')>.\n",
      "INFO:cycif_db.cyc_session:Successfully fetched a martching marker <Marker(name='DAPI')>.\n",
      "INFO:cycif_db.cyc_session:No matching marker found for CD20. Create one instead...\n",
      "INFO:cycif_db.cyc_session:Added marker <Marker(name='CD20')>.\n",
      "INFO:cycif_db.cyc_session:No matching marker found for Rb. Create one instead...\n",
      "INFO:cycif_db.cyc_session:Added marker <Marker(name='RB')>.\n",
      "INFO:cycif_db.cyc_session:No matching marker found for PD-1. Create one instead...\n",
      "INFO:cycif_db.cyc_session:Added marker <Marker(name='PD1')>.\n",
      "INFO:cycif_db.cyc_session:Successfully fetched a martching marker <Marker(name='DAPI')>.\n",
      "INFO:cycif_db.cyc_session:No matching marker found for CD11b. Create one instead...\n",
      "INFO:cycif_db.cyc_session:Added marker <Marker(name='CD11b')>.\n",
      "INFO:cycif_db.cyc_session:Successfully fetched a martching marker <Marker(name='CD45')>.\n",
      "INFO:cycif_db.cyc_session:No matching marker found for HLA-A. Create one instead...\n",
      "INFO:cycif_db.cyc_session:Added marker <Marker(name='HLA_A')>.\n",
      "INFO:cycif_db.cyc_session:No matching marker found for Histone. Create one instead...\n",
      "INFO:cycif_db.cyc_session:Added marker <Marker(name='Histone')>.\n",
      "INFO:cycif_db.cyc_session:No matching marker found for CD45RO. Create one instead...\n",
      "INFO:cycif_db.cyc_session:Added marker <Marker(name='CD45RO')>.\n",
      "INFO:cycif_db.cyc_session:Successfully fetched a martching marker <Marker(name='CD4')>.\n",
      "INFO:cycif_db.cyc_session:Successfully fetched a martching marker <Marker(name='CD45R')>.\n",
      "INFO:cycif_db.cyc_session:Added 36 entries of sample marker association!\n",
      "INFO:cycif_db.cyc_session:Adding sample complex completed!\n"
     ]
    }
   ],
   "source": [
    "import logging\n",
    "sys.path.insert(1, os.path.abspath('..'))\n",
    "from cycif_db import CycSession\n",
    "\n",
    "logging.basicConfig(level=logging.DEBUG)\n",
    "\n",
    "\n",
    "path84 = './Galaxy84-[quantification_on_data_1,_data_83,_and_data_71].csv'\n",
    "path_markers_84 = './Galaxy84-markers.csv'\n",
    "\n",
    "csess = CycSession()\n",
    "csess.add_sample_complex({'name': 'Galaxy84', 'tag': 'v0.1'}, path84, path_markers_84)\n"
   ]
  },
  {
   "cell_type": "code",
   "execution_count": 4,
   "metadata": {},
   "outputs": [
    {
     "output_type": "stream",
     "name": "stderr",
     "text": [
      "WARNING:cycif_db.data_frame._dataframe:The following markers found in cells headers didn't match any marker name listed in the `markers.csv`: DAPI_8, DAPI_1, CK-14_2, DAPI_7, CK-14_1, DAPI_2, DAPI_5, DAPI_4, DAPI_3, DAPI_6\n",
      "INFO:cycif_db.data_frame._dataframe:Check DB schema compatibility: Succeed!\n",
      "INFO:cycif_db.cyc_session:Added sample <Sample(name='Galaxy76', tag='cellpose_40X')>.\n",
      "INFO:cycif_db.cyc_session:Added 11032 cell records.\n",
      "INFO:cycif_db.cyc_session:Successfully fetched a martching marker <Marker(name='DAPI')>.\n",
      "INFO:cycif_db.cyc_session:Successfully fetched a martching marker <Marker(name='Goat_IgG_AF488')>.\n",
      "INFO:cycif_db.cyc_session:Successfully fetched a martching marker <Marker(name='Goat_IgG_AF555')>.\n",
      "INFO:cycif_db.cyc_session:Successfully fetched a martching marker <Marker(name='Goat_IgG_AF647')>.\n",
      "INFO:cycif_db.cyc_session:Successfully fetched a martching marker <Marker(name='DAPI')>.\n",
      "INFO:cycif_db.cyc_session:No matching marker found for ERK-1. Create one instead...\n",
      "INFO:cycif_db.cyc_session:Added marker <Marker(name='ERK1')>.\n",
      "INFO:cycif_db.cyc_session:Successfully fetched a martching marker <Marker(name='CD3')>.\n",
      "INFO:cycif_db.cyc_session:No matching marker found for RAD51. Create one instead...\n",
      "INFO:cycif_db.cyc_session:Added marker <Marker(name='RAD51')>.\n",
      "INFO:cycif_db.cyc_session:Successfully fetched a martching marker <Marker(name='DAPI')>.\n",
      "INFO:cycif_db.cyc_session:No matching marker found for CyclinD1. Create one instead...\n",
      "INFO:cycif_db.cyc_session:Added marker <Marker(name='Cyclin_D1')>.\n",
      "INFO:cycif_db.cyc_session:No matching marker found for ER-alpha. Create one instead...\n",
      "INFO:cycif_db.cyc_session:Added marker <Marker(name='ER_alpha')>.\n",
      "INFO:cycif_db.cyc_session:Successfully fetched a martching marker <Marker(name='alpha_SMA')>.\n",
      "INFO:cycif_db.cyc_session:Successfully fetched a martching marker <Marker(name='DAPI')>.\n",
      "INFO:cycif_db.cyc_session:Successfully fetched a martching marker <Marker(name='Ki67')>.\n",
      "INFO:cycif_db.cyc_session:Successfully fetched a martching marker <Marker(name='RB')>.\n",
      "INFO:cycif_db.cyc_session:No matching marker found for p21. Create one instead...\n",
      "INFO:cycif_db.cyc_session:Added marker <Marker(name='P21')>.\n",
      "INFO:cycif_db.cyc_session:Successfully fetched a martching marker <Marker(name='DAPI')>.\n",
      "INFO:cycif_db.cyc_session:No matching marker found for EGFR. Create one instead...\n",
      "INFO:cycif_db.cyc_session:Added marker <Marker(name='EGFR')>.\n",
      "INFO:cycif_db.cyc_session:No matching marker found for AR. Create one instead...\n",
      "INFO:cycif_db.cyc_session:Added marker <Marker(name='AR')>.\n",
      "INFO:cycif_db.cyc_session:Successfully fetched a martching marker <Marker(name='CD45')>.\n",
      "INFO:cycif_db.cyc_session:Successfully fetched a martching marker <Marker(name='DAPI')>.\n",
      "INFO:cycif_db.cyc_session:No matching marker found for E-cadherin. Create one instead...\n",
      "INFO:cycif_db.cyc_session:Added marker <Marker(name='E_cadherin')>.\n",
      "INFO:cycif_db.cyc_session:No matching marker found for Vimentin. Create one instead...\n",
      "INFO:cycif_db.cyc_session:Added marker <Marker(name='Vimentin')>.\n",
      "INFO:cycif_db.cyc_session:No matching marker found for PR. Create one instead...\n",
      "INFO:cycif_db.cyc_session:Added marker <Marker(name='PR')>.\n",
      "INFO:cycif_db.cyc_session:Successfully fetched a martching marker <Marker(name='DAPI')>.\n",
      "INFO:cycif_db.cyc_session:No matching marker found for CK-14. Create one instead...\n",
      "INFO:cycif_db.cyc_session:Added marker <Marker(name='CK14')>.\n",
      "INFO:cycif_db.cyc_session:No matching marker found for CK-19. Create one instead...\n",
      "INFO:cycif_db.cyc_session:Added marker <Marker(name='CK19')>.\n",
      "INFO:cycif_db.cyc_session:No matching marker found for PARP. Create one instead...\n",
      "INFO:cycif_db.cyc_session:Added marker <Marker(name='PARP')>.\n",
      "INFO:cycif_db.cyc_session:Successfully fetched a martching marker <Marker(name='DAPI')>.\n",
      "INFO:cycif_db.cyc_session:No matching marker found for CK-17. Create one instead...\n",
      "INFO:cycif_db.cyc_session:Added marker <Marker(name='CK17')>.\n",
      "INFO:cycif_db.cyc_session:No matching marker found for CK-7. Create one instead...\n",
      "INFO:cycif_db.cyc_session:Added marker <Marker(name='CK7')>.\n",
      "INFO:cycif_db.cyc_session:No matching marker found for HER2. Create one instead...\n",
      "INFO:cycif_db.cyc_session:Added marker <Marker(name='HER2')>.\n",
      "INFO:cycif_db.cyc_session:Successfully fetched a martching marker <Marker(name='Histone')>.\n",
      "INFO:cycif_db.cyc_session:Successfully fetched a martching marker <Marker(name='CK14')>.\n",
      "INFO:cycif_db.cyc_session:No matching marker found for H2A.X. Create one instead...\n",
      "INFO:cycif_db.cyc_session:Added marker <Marker(name='H2A_X')>.\n",
      "INFO:cycif_db.cyc_session:No matching marker found for HES-1. Create one instead...\n",
      "INFO:cycif_db.cyc_session:Added marker <Marker(name='HES1')>.\n",
      "INFO:cycif_db.cyc_session:Added 36 entries of sample marker association!\n",
      "INFO:cycif_db.cyc_session:Adding sample complex completed!\n"
     ]
    }
   ],
   "source": [
    "path76 = './Galaxy76-[quantification_on_data_1,_data_74,_and_data_71].csv'\n",
    "path_markers_76 = './Galaxy76-markers.csv'\n",
    "\n",
    "csess.add_sample_complex({'name': 'Galaxy76', 'tag': 'cellpose_40X'}, path76, path_markers_76)\n"
   ]
  },
  {
   "cell_type": "code",
   "execution_count": 5,
   "metadata": {},
   "outputs": [],
   "source": [
    "csess.close()"
   ]
  }
 ]
}